{
  "nbformat": 4,
  "nbformat_minor": 0,
  "metadata": {
    "colab": {
      "name": "AlexNet Architecture implementation using keras",
      "version": "0.3.2",
      "provenance": []
    },
    "kernelspec": {
      "name": "python3",
      "display_name": "Python 3"
    },
    "accelerator": "GPU"
  },
  "cells": [
    {
      "metadata": {
        "id": "DHmKwxawfNq1",
        "colab_type": "code",
        "colab": {}
      },
      "cell_type": "code",
      "source": [
        "import keras\n",
        "from keras.datasets import cifar10\n",
        "from keras.models import Sequential\n",
        "from keras.layers import Dense,Dropout,Flatten\n",
        "from keras.layers import Conv2D,MaxPooling2D,BatchNormalization\n",
        "from keras.optimizers import Adam"
      ],
      "execution_count": 0,
      "outputs": []
    },
    {
      "metadata": {
        "id": "NL89euhDfhlv",
        "colab_type": "code",
        "colab": {}
      },
      "cell_type": "code",
      "source": [
        "#Hyperparameters\n",
        "batc_size=64\n",
        "num_classes=10\n",
        "epochs=10"
      ],
      "execution_count": 0,
      "outputs": []
    },
    {
      "metadata": {
        "id": "gvDNvkJpfizL",
        "colab_type": "code",
        "colab": {
          "base_uri": "https://localhost:8080/",
          "height": 35
        },
        "outputId": "7cf3646c-1122-4de3-e74d-95987b022faa"
      },
      "cell_type": "code",
      "source": [
        "(x_train,y_train),(x_test,y_test)=cifar10.load_data()\n",
        "print(x_train.dtype)"
      ],
      "execution_count": 8,
      "outputs": [
        {
          "output_type": "stream",
          "text": [
            "uint8\n"
          ],
          "name": "stdout"
        }
      ]
    },
    {
      "metadata": {
        "id": "QJSttxlDflBm",
        "colab_type": "code",
        "colab": {
          "base_uri": "https://localhost:8080/",
          "height": 35
        },
        "outputId": "7443839e-bd52-4086-caf7-62e96c6ab398"
      },
      "cell_type": "code",
      "source": [
        "img_height,img_width,channel=x_train.shape[1],x_train.shape[2],x_train.shape[3]\n",
        "y_train = keras.utils.to_categorical(y_train, num_classes)\n",
        "y_test = keras.utils.to_categorical(y_test, num_classes)\n",
        "print(x_train.shape[1])"
      ],
      "execution_count": 9,
      "outputs": [
        {
          "output_type": "stream",
          "text": [
            "32\n"
          ],
          "name": "stdout"
        }
      ]
    },
    {
      "metadata": {
        "id": "HpwmiKu2gcJh",
        "colab_type": "code",
        "colab": {
          "base_uri": "https://localhost:8080/",
          "height": 141
        },
        "outputId": "84d520de-50e1-490b-c247-9eb4185d3f94"
      },
      "cell_type": "code",
      "source": [
        "#AlexNet Architecture\n",
        "model=Sequential()\n",
        "model.add(Conv2D(96,(3,3),strides=(2,2),activation='relu',padding='valid',input_shape=(img_height,img_width,channel,)))\n",
        "model.add(MaxPooling2D(pool_size=(2,2),strides=(2,2)))\n",
        "model.add(BatchNormalization())\n",
        "\n",
        "model.add(Conv2D(256,(5,5),activation='relu',padding='same'))\n",
        "model.add(MaxPooling2D(pool_size=(3,3),strides=(2,2)))\n",
        "model.add(BatchNormalization())\n",
        "\n",
        "model.add(Conv2D(384,(3,3),activation='relu',padding='same'))\n",
        "\n",
        "model.add(Conv2D(384,(3,3),activation='relu',padding='same'))\n",
        "\n",
        "model.add(Conv2D(256,(3,3),activation='relu',padding='same'))\n",
        "\n",
        "model.add(MaxPooling2D(pool_size=(3,3),strides=(2,2)))\n",
        "model.add(BatchNormalization())\n",
        "\n",
        "model.add(Flatten())\n",
        "model.add(Dense(4096,activation='relu'))\n",
        "model.add(Dropout(0.5))\n",
        "model.add(Dense(4096,activation='relu'))\n",
        "model.add(Dropout(0.5))\n",
        "model.add(Dense(num_classes,activation='softmax'))"
      ],
      "execution_count": 10,
      "outputs": [
        {
          "output_type": "stream",
          "text": [
            "WARNING:tensorflow:From /usr/local/lib/python3.6/dist-packages/tensorflow/python/framework/op_def_library.py:263: colocate_with (from tensorflow.python.framework.ops) is deprecated and will be removed in a future version.\n",
            "Instructions for updating:\n",
            "Colocations handled automatically by placer.\n",
            "WARNING:tensorflow:From /usr/local/lib/python3.6/dist-packages/keras/backend/tensorflow_backend.py:3445: calling dropout (from tensorflow.python.ops.nn_ops) with keep_prob is deprecated and will be removed in a future version.\n",
            "Instructions for updating:\n",
            "Please use `rate` instead of `keep_prob`. Rate should be set to `rate = 1 - keep_prob`.\n"
          ],
          "name": "stdout"
        }
      ]
    },
    {
      "metadata": {
        "id": "uQzE30bvgf7l",
        "colab_type": "code",
        "colab": {}
      },
      "cell_type": "code",
      "source": [
        "model.compile(loss='categorical_crossentropy',optimizer=Adam(),metrics=['accuracy'])"
      ],
      "execution_count": 0,
      "outputs": []
    },
    {
      "metadata": {
        "id": "xraTV_KYgju0",
        "colab_type": "code",
        "colab": {
          "base_uri": "https://localhost:8080/",
          "height": 471
        },
        "outputId": "a5ca25b8-7e6f-453f-dfe9-4247e3b1df9f"
      },
      "cell_type": "code",
      "source": [
        "model.fit(x_train,y_train,batch_size=batc_size,epochs=epochs,verbose=1,validation_data=(x_test,y_test))"
      ],
      "execution_count": 12,
      "outputs": [
        {
          "output_type": "stream",
          "text": [
            "WARNING:tensorflow:From /usr/local/lib/python3.6/dist-packages/tensorflow/python/ops/math_ops.py:3066: to_int32 (from tensorflow.python.ops.math_ops) is deprecated and will be removed in a future version.\n",
            "Instructions for updating:\n",
            "Use tf.cast instead.\n",
            "Train on 50000 samples, validate on 10000 samples\n",
            "Epoch 1/10\n",
            "50000/50000 [==============================] - 55s 1ms/step - loss: 1.5994 - acc: 0.4549 - val_loss: 1.4261 - val_acc: 0.5319\n",
            "Epoch 2/10\n",
            "50000/50000 [==============================] - 51s 1ms/step - loss: 1.1239 - acc: 0.6167 - val_loss: 1.4572 - val_acc: 0.5243\n",
            "Epoch 3/10\n",
            "50000/50000 [==============================] - 51s 1ms/step - loss: 0.9389 - acc: 0.6853 - val_loss: 1.2197 - val_acc: 0.6077\n",
            "Epoch 4/10\n",
            "50000/50000 [==============================] - 51s 1ms/step - loss: 0.7883 - acc: 0.7403 - val_loss: 1.0251 - val_acc: 0.6668\n",
            "Epoch 5/10\n",
            "50000/50000 [==============================] - 51s 1ms/step - loss: 0.6488 - acc: 0.7867 - val_loss: 1.1014 - val_acc: 0.6393\n",
            "Epoch 6/10\n",
            "50000/50000 [==============================] - 51s 1ms/step - loss: 0.5464 - acc: 0.8204 - val_loss: 0.9799 - val_acc: 0.6946\n",
            "Epoch 7/10\n",
            "50000/50000 [==============================] - 51s 1ms/step - loss: 0.4413 - acc: 0.8559 - val_loss: 1.1116 - val_acc: 0.6890\n",
            "Epoch 8/10\n",
            "50000/50000 [==============================] - 51s 1ms/step - loss: 0.3730 - acc: 0.8797 - val_loss: 1.1172 - val_acc: 0.6988\n",
            "Epoch 9/10\n",
            "50000/50000 [==============================] - 51s 1ms/step - loss: 0.3072 - acc: 0.9028 - val_loss: 1.0955 - val_acc: 0.7024\n",
            "Epoch 10/10\n",
            "50000/50000 [==============================] - 51s 1ms/step - loss: 0.2615 - acc: 0.9171 - val_loss: 1.3271 - val_acc: 0.6546\n"
          ],
          "name": "stdout"
        },
        {
          "output_type": "execute_result",
          "data": {
            "text/plain": [
              "<keras.callbacks.History at 0x7fa3df653588>"
            ]
          },
          "metadata": {
            "tags": []
          },
          "execution_count": 12
        }
      ]
    },
    {
      "metadata": {
        "id": "aK5kujroglyz",
        "colab_type": "code",
        "colab": {}
      },
      "cell_type": "code",
      "source": [
        ""
      ],
      "execution_count": 0,
      "outputs": []
    }
  ]
}