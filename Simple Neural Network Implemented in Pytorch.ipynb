{
 "cells": [
  {
   "cell_type": "code",
   "execution_count": 98,
   "metadata": {},
   "outputs": [],
   "source": [
    "import torch\n",
    "import torch.nn as nn\n",
    "import torchvision.datasets as data\n",
    "import torchvision.transforms as transforms\n",
    "from torch.autograd import Variable\n",
    "import torch.nn.functional as F"
   ]
  },
  {
   "cell_type": "markdown",
   "metadata": {},
   "source": [
    "### Downloading MNIST Datasets "
   ]
  },
  {
   "cell_type": "code",
   "execution_count": 99,
   "metadata": {},
   "outputs": [],
   "source": [
    "train_data=data.MNIST(root='./data',train=True,transform=transforms.ToTensor(),download=True)\n",
    "test_data=data.MNIST(root='./data',train=False,transform=transforms.ToTensor())"
   ]
  },
  {
   "cell_type": "code",
   "execution_count": 100,
   "metadata": {},
   "outputs": [
    {
     "data": {
      "text/plain": [
       "Dataset MNIST\n",
       "    Number of datapoints: 60000\n",
       "    Split: train\n",
       "    Root Location: ./data\n",
       "    Transforms (if any): ToTensor()\n",
       "    Target Transforms (if any): None"
      ]
     },
     "execution_count": 100,
     "metadata": {},
     "output_type": "execute_result"
    }
   ],
   "source": [
    "train_data"
   ]
  },
  {
   "cell_type": "markdown",
   "metadata": {},
   "source": [
    "### About Datasets\n",
    "We have got 60,000 training samples ,need to split into small batches,so that less computational stress on RAM or CPU."
   ]
  },
  {
   "cell_type": "code",
   "execution_count": 101,
   "metadata": {},
   "outputs": [],
   "source": [
    "batch_size=100\n",
    "n_iters=3000 \n",
    "num_epochs=int(n_iters/(len(train_data)/batch_size))\n",
    "train_loader=torch.utils.data.DataLoader(dataset=train_data,batch_size=batch_size,shuffle=True)\n",
    "test_loader=torch.utils.data.DataLoader(dataset=test_data,batch_size=batch_size,shuffle=True)"
   ]
  },
  {
   "cell_type": "markdown",
   "metadata": {},
   "source": [
    "### Epochs\n",
    "Epoch means we have sent the whole 60,000 datasets successfully."
   ]
  },
  {
   "cell_type": "code",
   "execution_count": 102,
   "metadata": {},
   "outputs": [],
   "source": [
    "class Net(nn.Module):\n",
    "    def __init__(self,input_dim,hidden_dim,output_dim):\n",
    "        super(Net,self).__init__()\n",
    "        self.fc1=nn.Linear(input_dim,hidden_dim)\n",
    "        self.relu=nn.ReLU()\n",
    "        # Linear function 2: 100 --> 100\n",
    "        self.fc2 = nn.Linear(hidden_dim, hidden_dim)\n",
    "        # Non-linearity 2\n",
    "        self.relu2 = nn.ReLU()\n",
    "\n",
    "        self.fc3=nn.Linear(hidden_dim,output_dim)\n",
    "    \n",
    "    def forward(self,x):\n",
    "        out=self.fc1(x)\n",
    "        out=self.relu(out)\n",
    "        out=self.fc2(out)\n",
    "        out=self.relu2(out)\n",
    "        out=self.fc3(out)\n",
    "        return out"
   ]
  },
  {
   "cell_type": "markdown",
   "metadata": {},
   "source": [
    "### Model Class\n",
    "Input dim:784\n",
    "->size of image=28*28(width *height)\n",
    "\n",
    "Output dim:10\n",
    "->0,1,2,3,4,5,6,7,8,9\n",
    "\n",
    "Hidden dim:100\n",
    "->can be any number \n",
    "->No. of neurons \n",
    "\n",
    "Interesting part is determining the no.of nerons.Intutively we think bigger model means better model but a bigger model requires more training samples to learn and converge to a good model.Since it is problem of recognizing digits, we typically would not need a big model to achieve the required result.\n",
    "\n",
    "On the other side,too small of a hidden size would mean would be insufficient model capacity to predict competently.too small of a capacity implies a smaller brain capacity so no matter how many training samples we give it ,has a maximum capacity in terms of its predictive power.\n"
   ]
  },
  {
   "cell_type": "code",
   "execution_count": 103,
   "metadata": {},
   "outputs": [],
   "source": [
    "input_dim=28*28\n",
    "hidden_dim=100\n",
    "output_dim=10\n",
    "learning_rate=0.001"
   ]
  },
  {
   "cell_type": "code",
   "execution_count": 104,
   "metadata": {},
   "outputs": [],
   "source": [
    "net=Net(input_dim,hidden_dim,output_dim)"
   ]
  },
  {
   "cell_type": "code",
   "execution_count": 109,
   "metadata": {},
   "outputs": [],
   "source": [
    "criteria=nn.CrossEntropyLoss()\n",
    "#optimizer=torch.optim.Adam(net.parameters(),lr=learning_rate)\n",
    "optimizer = torch.optim.SGD(net.parameters(), lr=learning_rate)"
   ]
  },
  {
   "cell_type": "markdown",
   "metadata": {},
   "source": [
    "### Loss and Optimizers\n",
    "Cross entropy function is required to compute the loss between our softmax outputs and binary labels.\n",
    "\n",
    "OPTIMIZER:\n",
    "Equation:(parametres=parametre-learning_rate*parametres_gradients)\n",
    "\n",
    "\n",
    "\n",
    "At every iterations,we update our parametre.\n",
    "Learning rate determines how fats the algorithm learns.Too small and the algorithm learns too slowly,too large and the algorithm learns too fast resulting in instabilities.\n"
   ]
  },
  {
   "cell_type": "code",
   "execution_count": 110,
   "metadata": {},
   "outputs": [
    {
     "name": "stdout",
     "output_type": "stream",
     "text": [
      "<generator object Module.parameters at 0x000001F82809AD00>\n",
      "6\n",
      "torch.Size([100, 784])\n",
      "torch.Size([100])\n",
      "torch.Size([100, 100])\n",
      "torch.Size([100])\n"
     ]
    }
   ],
   "source": [
    "print(net.parameters())\n",
    "print(len(list(net.parameters())))\n",
    "print(list(net.parameters())[0].size())\n",
    "print(list(net.parameters())[1].size())\n",
    "print(list(net.parameters())[2].size())\n",
    "print(list(net.parameters())[3].size())"
   ]
  },
  {
   "cell_type": "code",
   "execution_count": 111,
   "metadata": {},
   "outputs": [
    {
     "name": "stdout",
     "output_type": "stream",
     "text": [
      "Iteration: 500. Loss: 0.025853915140032768. Accuracy: 97\n",
      "Iteration: 1000. Loss: 0.0422731414437294. Accuracy: 97\n",
      "Iteration: 1500. Loss: 0.016388077288866043. Accuracy: 97\n",
      "Iteration: 2000. Loss: 0.02876640111207962. Accuracy: 97\n",
      "Iteration: 2500. Loss: 0.032493989914655685. Accuracy: 97\n",
      "Iteration: 3000. Loss: 0.015239179134368896. Accuracy: 97\n"
     ]
    }
   ],
   "source": [
    "iter=0\n",
    "for epoch in range(num_epochs):\n",
    "    for i, (images, labels) in enumerate(train_loader):\n",
    "        # Load images with gradient accumulation capabilities\n",
    "        images = images.view(-1, 28*28).requires_grad_()\n",
    "\n",
    "        # Clear gradients w.r.t. parameters\n",
    "        optimizer.zero_grad()\n",
    "\n",
    "        # Forward pass to get output/logits\n",
    "        outputs = net(images)\n",
    "\n",
    "        # Calculate Loss: softmax --> cross entropy loss\n",
    "        loss = criteria(outputs, labels)\n",
    "\n",
    "        # Getting gradients w.r.t. parameters\n",
    "        loss.backward()\n",
    "\n",
    "        # Updating parameters\n",
    "        optimizer.step()\n",
    "\n",
    "        iter += 1\n",
    "\n",
    "        if iter % 500 == 0:\n",
    "            # Calculate Accuracy         \n",
    "            correct = 0\n",
    "            total = 0\n",
    "            # Iterate through test dataset\n",
    "            for images, labels in test_loader:\n",
    "                # Load images with gradient accumulation capabilities\n",
    "                images = images.view(-1, 28*28).requires_grad_()\n",
    "\n",
    "                # Forward pass only to get logits/output\n",
    "                outputs = net(images)\n",
    "\n",
    "                # Get predictions from the maximum value\n",
    "                _, predicted = torch.max(outputs.data, 1)\n",
    "\n",
    "                # Total number of labels\n",
    "                total += labels.size(0)\n",
    "\n",
    "                # Total correct predictions\n",
    "                correct += (predicted == labels).sum()\n",
    "\n",
    "            accuracy = 100 * correct / total\n",
    "\n",
    "            # Print Loss\n",
    "            print('Iteration: {}. Loss: {}. Accuracy: {}'.format(iter, loss.item(), accuracy))"
   ]
  },
  {
   "cell_type": "code",
   "execution_count": null,
   "metadata": {},
   "outputs": [],
   "source": []
  }
 ],
 "metadata": {
  "kernelspec": {
   "display_name": "Python 3",
   "language": "python",
   "name": "python3"
  },
  "language_info": {
   "codemirror_mode": {
    "name": "ipython",
    "version": 3
   },
   "file_extension": ".py",
   "mimetype": "text/x-python",
   "name": "python",
   "nbconvert_exporter": "python",
   "pygments_lexer": "ipython3",
   "version": "3.6.5"
  }
 },
 "nbformat": 4,
 "nbformat_minor": 2
}
